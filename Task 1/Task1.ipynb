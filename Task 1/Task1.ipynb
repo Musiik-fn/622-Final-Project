{
 "cells": [
  {
   "cell_type": "markdown",
   "metadata": {},
   "source": [
    "# Task 1: Linear and Binary Search"
   ]
  },
  {
   "cell_type": "markdown",
   "metadata": {},
   "source": [
    "## User Input Function\n",
    "    - Implement functions to prompt users to enter a list of numbers and the item they want to search for. Ensure robust input handling to manage non-numeric inputs and other potential input errors."
   ]
  },
  {
   "cell_type": "code",
   "execution_count": 15,
   "metadata": {},
   "outputs": [
    {
     "name": "stdout",
     "output_type": "stream",
     "text": [
      "You entered: ([1, 2, 3, 4, 123], 123)\n"
     ]
    }
   ],
   "source": [
    "def getUserInputs():\n",
    "    \"\"\"A function which will handle getting the inputs from the user: a list of integers. \n",
    "    \n",
    "    Returns:\n",
    "    - userList, userInt\n",
    "    \n",
    "    Entering an empty string will exit the function.\n",
    "    \"\"\"\n",
    "    while True:\n",
    "        userIntergerInput = input('Enter the integer you would like to search for: ')\n",
    "        if userIntergerInput == \"\":\n",
    "            return None\n",
    "        try: \n",
    "            userInt = int(userIntergerInput)\n",
    "            break\n",
    "        except ValueError as er:\n",
    "            print(f'Error: Could not convert the target into an integer, please try again. Error: {er}')\n",
    "    \n",
    "    while True:\n",
    "        input_string = input(f\"Enter elements separated by commas. Your target is {userInt}\")\n",
    "\n",
    "        # exit user input function\n",
    "        if input_string.strip() == \"\":\n",
    "            print(\"No input received. Exiting function.\")\n",
    "            return None  \n",
    "        \n",
    "        # handle string to list conversion. checks that each element is an int\n",
    "        input_list = input_string.split(',')\n",
    "        try:\n",
    "            userList = [int(element.strip()) for element in input_list]\n",
    "            return userList, userInt\n",
    "        except ValueError as e:\n",
    "            print(f\"Error: Could not convert a value into an integer, please try again. Error: {e}\")\n",
    "\n",
    "# Example of how to use the function\n",
    "numbers = getUserInputs()\n",
    "if numbers is not None:\n",
    "    print(\"You entered:\", numbers)\n",
    "else:\n",
    "    print(\"Function exited without input.\")\n"
   ]
  },
  {
   "cell_type": "markdown",
   "metadata": {},
   "source": [
    "## Linear Search"
   ]
  },
  {
   "cell_type": "code",
   "execution_count": 10,
   "metadata": {},
   "outputs": [],
   "source": [
    "def linearSearchIterative(sourceList, target):\n",
    "    \"\"\"Finds the target within the `sourceList` using the linear search method iteratively.\n",
    "    Args:\n",
    "        sourceList (list): A list of `int` values\n",
    "        target (int): The `int` value that will be searched for\n",
    "    Retuns:\n",
    "        If the `target` is found, the index of the `sourceList` is returned. `False` is returned if otherwise\n",
    "    \"\"\"\n",
    "    for index, each in enumerate(sourceList):\n",
    "        if each == target:\n",
    "            return index\n",
    "    return False"
   ]
  },
  {
   "cell_type": "code",
   "execution_count": 11,
   "metadata": {},
   "outputs": [],
   "source": [
    "def linearSearchRecursive(sourceList, target, index=0):\n",
    "    \"\"\"Finds the target within the `sourceList` using the linear search method recursively. \n",
    "    Args:\n",
    "        sourceList (list): A list of `int` values\n",
    "        target (int): The `int` value that will be searched for\n",
    "    Retuns:\n",
    "        If the `target` is found, the index of the `sourceList` is returned. `False` is returned if otherwise\n",
    "    \"\"\"\n",
    "    if sourceList[0] == target: # target found case\n",
    "        return index \n",
    "    elif len(sourceList) == 1: # target not found case\n",
    "        return False\n",
    "    else: # recursion\n",
    "        return linearSearchRecursive(sourceList[1:], target, index + 1)"
   ]
  },
  {
   "cell_type": "markdown",
   "metadata": {},
   "source": [
    "## Binary Search"
   ]
  },
  {
   "cell_type": "code",
   "execution_count": 14,
   "metadata": {},
   "outputs": [
    {
     "data": {
      "text/plain": [
       "3"
      ]
     },
     "execution_count": 14,
     "metadata": {},
     "output_type": "execute_result"
    }
   ],
   "source": [
    "def binarySearchIterative(sourceList, target):\n",
    "    \"\"\"Uses binary search to find the target within a sorted list. Returns the position of the target, if found, and `False` otherwise. Uses an iterative approach.\n",
    "\n",
    "    Args:\n",
    "        sourceList (list): A list of `int` values\n",
    "        target (int): The `int` value that will be searched for\n",
    "    \"\"\"\n",
    "    if target == sourceList[0]:\n",
    "        return 0\n",
    "    elif target == sourceList[-1]:\n",
    "        return -1\n",
    "    \n",
    "    left = 0\n",
    "    right = len(sourceList) - 1\n",
    "\n",
    "    if target == sourceList[left]:\n",
    "        return left\n",
    "    elif target == sourceList[right]:\n",
    "        return right\n",
    "    else:\n",
    "        while left <= right: # ensures that there are numbers in between to still go through\n",
    "            midpoint_index = (left + right) // 2\n",
    "            if target == sourceList[midpoint_index]:\n",
    "                return midpoint_index\n",
    "            elif target < sourceList[midpoint_index]:\n",
    "                right = midpoint_index - 1\n",
    "            else: \n",
    "                left = midpoint_index + 1\n",
    "\n",
    "        return False\n",
    "\n",
    "binarySearchIterative(target=4, sourceList=[1,2,3,4,5,6,7,8,9])\n",
    "        "
   ]
  },
  {
   "cell_type": "code",
   "execution_count": 22,
   "metadata": {},
   "outputs": [
    {
     "name": "stdout",
     "output_type": "stream",
     "text": [
      "2\n"
     ]
    }
   ],
   "source": [
    "def binarySearchRecursive(sourceList, target, left=0, right=None):\n",
    "    \"\"\"Uses binary search to find the target within a sorted list. Returns the position of the target, if found, and `False` otherwise. Uses a recursive approach.\n",
    "    Args:\n",
    "        sourceList (list): A sorted list of `int` values\n",
    "        target (int): The `int` value that will be searched for\n",
    "        left (int, optional): The starting index of the sublist to search within. Default is 0.\n",
    "        right (int, optional): The ending index of the sublist to search within. Default is the last index of the list.\n",
    "    \"\"\"\n",
    "    if right is None:\n",
    "        right = len(sourceList) - 1\n",
    "\n",
    "    if left <= right:\n",
    "        midpoint_index = (left + right) // 2\n",
    "        if sourceList[midpoint_index] == target:\n",
    "            return midpoint_index\n",
    "        elif target < sourceList[midpoint_index]:\n",
    "            return binarySearchRecursive(sourceList, target, left, midpoint_index - 1)\n",
    "        else:\n",
    "            return binarySearchRecursive(sourceList, target, midpoint_index + 1, right)\n",
    "    else:\n",
    "        return False\n",
    "\n",
    "# Testing the function without specifying left and right\n",
    "print(binarySearchRecursive([1,2,3,4,5,6], 3))\n"
   ]
  },
  {
   "cell_type": "code",
   "execution_count": null,
   "metadata": {},
   "outputs": [],
   "source": [
    "def main():\n",
    "    "
   ]
  }
 ],
 "metadata": {
  "kernelspec": {
   "display_name": "base",
   "language": "python",
   "name": "python3"
  },
  "language_info": {
   "codemirror_mode": {
    "name": "ipython",
    "version": 3
   },
   "file_extension": ".py",
   "mimetype": "text/x-python",
   "name": "python",
   "nbconvert_exporter": "python",
   "pygments_lexer": "ipython3",
   "version": "3.11.4"
  }
 },
 "nbformat": 4,
 "nbformat_minor": 2
}
