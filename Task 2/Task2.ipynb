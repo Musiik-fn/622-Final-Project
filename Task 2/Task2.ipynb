{
 "cells": [
  {
   "cell_type": "code",
   "execution_count": 5,
   "metadata": {},
   "outputs": [
    {
     "name": "stdout",
     "output_type": "stream",
     "text": [
      "(10107, 30, 95.7, 2, 2871.0, '2/24/2003 0:00', 'Shipped', 1, 2, 2003, 'Motorcycles', 95, 'S10_1678', 'Land of Toys Inc.', '2125557818', '897 Long Airport Avenue', None, 'NYC', 'NY', '10022', 'USA', None, 'Yu', 'Kwai', 'Small')\n",
      "(10121, 34, 81.35, 5, 2765.9, '5/7/2003 0:00', 'Shipped', 2, 5, 2003, 'Motorcycles', 95, 'S10_1678', 'Reims Collectables', '26.47.1555', \"59 rue de l'Abbaye\", None, 'Reims', None, '51100', 'France', 'EMEA', 'Henriot', 'Paul', 'Small')\n",
      "(10134, 41, 94.74, 2, 3884.34, '7/1/2003 0:00', 'Shipped', 3, 7, 2003, 'Motorcycles', 95, 'S10_1678', 'Lyon Souveniers', '+33 1 46 62 7555', '27 rue du Colonel Pierre Avia', None, 'Paris', None, '75508', 'France', 'EMEA', 'Da Cunha', 'Daniel', 'Medium')\n",
      "(10145, 45, 83.26, 6, 3746.7, '8/25/2003 0:00', 'Shipped', 3, 8, 2003, 'Motorcycles', 95, 'S10_1678', 'Toys4GrownUps.com', '6265557265', '78934 Hillside Dr.', None, 'Pasadena', 'CA', '90003', 'USA', None, 'Young', 'Julie', 'Medium')\n",
      "(10159, 49, 100.0, 14, 5205.27, '10/10/2003 0:00', 'Shipped', 4, 10, 2003, 'Motorcycles', 95, 'S10_1678', 'Corporate Gift Ideas Co.', '6505551386', '7734 Strong St.', None, 'San Francisco', 'CA', None, 'USA', None, 'Brown', 'Julie', 'Medium')\n"
     ]
    }
   ],
   "source": [
    "import sqlite3\n",
    "import pandas as pd\n",
    "\n",
    "# Step 2: Read the CSV File\n",
    "csv_file_path = '/Users/josh/Desktop/Macbook Working Files/Git Repos/622-Final-Project/Task 2/sales_data_sampleUTF8.csv'  # Modify with the path to your CSV file\n",
    "data = pd.read_csv(csv_file_path, encoding='ISO-8859-1')\n",
    "\n",
    "# Step 3: Create the database and table\n",
    "db_path = 'my_database.sqlite'  # The SQLite database file\n",
    "conn = sqlite3.connect(db_path)\n",
    "cursor = conn.cursor()\n",
    "\n",
    "# Dynamically creating a table based on CSV columns\n",
    "columns = ', '.join([f\"{col} TEXT\" for col in data.columns])  # Assuming all fields are TEXT for simplicity\n",
    "table_name = 'sales_data'  # Name of the table to create\n",
    "cursor.execute(f\"CREATE TABLE IF NOT EXISTS {table_name} ({columns})\")\n",
    "conn.commit()\n",
    "\n",
    "# Step 4: Insert Data into the Database\n",
    "# Using pandas to insert data\n",
    "data.to_sql(table_name, conn, if_exists='replace', index=False)  # Choose 'append' if you want to add to existing data\n",
    "\n",
    "# Verify insertion\n",
    "cursor.execute(f\"SELECT * FROM {table_name} LIMIT 5\")  # Adjust SQL as needed\n",
    "rows = cursor.fetchall()\n",
    "for row in rows:\n",
    "    print(row)\n",
    "\n",
    "# Clean up\n",
    "conn.close()\n"
   ]
  }
 ],
 "metadata": {
  "kernelspec": {
   "display_name": "base",
   "language": "python",
   "name": "python3"
  },
  "language_info": {
   "codemirror_mode": {
    "name": "ipython",
    "version": 3
   },
   "file_extension": ".py",
   "mimetype": "text/x-python",
   "name": "python",
   "nbconvert_exporter": "python",
   "pygments_lexer": "ipython3",
   "version": "3.11.4"
  }
 },
 "nbformat": 4,
 "nbformat_minor": 2
}
